{
 "cells": [
  {
   "cell_type": "code",
   "execution_count": null,
   "id": "783bab0b-237b-45ab-a362-92e9b91781a4",
   "metadata": {},
   "outputs": [],
   "source": [
    "import pandas as pd\n",
    "from sklearn.model_selection import train_test_split\n",
    "from sklearn.linear_model import LogisticRegression\n",
    "from sklearn.model_selection import GridSearchCV\n",
    "from sklearn.metrics import f1_score, plot_confusion_matrix, plot_roc_curve\n",
    "import matplotlib.pyplot as plt\n",
    "import warnings\n",
    "warnings.filterwarnings('ignore')"
   ]
  },
  {
   "cell_type": "code",
   "execution_count": null,
   "id": "dfbb9bf2-49db-440d-942e-4dee3c79fb94",
   "metadata": {
    "tags": []
   },
   "outputs": [],
   "source": [
    "data=pd.read_csv(r\"C:\\Users\\shrut\\Desktop\\Data Glacier Stuff\\Algorithms\\Clean_file.csv\")\n",
    "X, y = Clean_pipe.altCleaning(data)"
   ]
  },
  {
   "cell_type": "code",
   "execution_count": null,
   "id": "555c23d5-4efd-4494-b3fd-7dd45c106f25",
   "metadata": {},
   "outputs": [],
   "source": [
    "X_train, X_test, y_train, y_test = train_test_split(X, y, test_size=0.25, random_state=42)\n",
    "\n",
    "print(X_train.shape)\n",
    "print(y_train.shape)\n",
    "print(X_test.shape)\n",
    "print(y_test.shape)"
   ]
  },
  {
   "cell_type": "code",
   "execution_count": null,
   "id": "35c0f150-f389-4fdb-9877-b95e12df7a70",
   "metadata": {},
   "outputs": [],
   "source": [
    "params = {\n",
    "    'C': [0.001, 0.01, 0.1, 1, 10, 100, 1000],\n",
    "    \"solver\": [\"newton-cg\", \"lbfgs\", \"liblinear\", \"sag\", \"saga\"],\n",
    "    \"penalty\":[\"l1\",\"l2\"]\n",
    "}\n",
    "\n",
    "lg_gs = GridSearchCV(\n",
    "    estimator= LogisticRegression(),\n",
    "    param_grid= params,\n",
    "    cv= 5\n",
    ")"
   ]
  },
  {
   "cell_type": "code",
   "execution_count": null,
   "id": "6479c6b9-e3cc-4d84-96c3-68e9b739c03c",
   "metadata": {},
   "outputs": [],
   "source": [
    "lg_gs.fit(X_train, y_train)"
   ]
  },
  {
   "cell_type": "code",
   "execution_count": null,
   "id": "6a749831-8e75-47b4-80f1-51750d10452e",
   "metadata": {},
   "outputs": [],
   "source": [
    "pd.concat([pd.DataFrame(lg_gs.cv_results_[\"params\"]),pd.DataFrame(lg_gs.cv_results_[\"mean_test_score\"], columns=[\"Accuracy\"])],axis=1)"
   ]
  },
  {
   "cell_type": "code",
   "execution_count": null,
   "id": "13e493e9-f903-4732-8665-33b0038273a1",
   "metadata": {},
   "outputs": [],
   "source": [
    "print(lg_gs.best_params_)\n",
    "print(lg_gs.best_score_)"
   ]
  },
  {
   "cell_type": "code",
   "execution_count": null,
   "id": "d4643a25-6dac-421d-947a-cfca9a568a9a",
   "metadata": {},
   "outputs": [],
   "source": [
    "y_pred = lg_gs.predict(X_test)"
   ]
  },
  {
   "cell_type": "code",
   "execution_count": null,
   "id": "d790840a-efe8-4ea9-8ea2-575de3be6dab",
   "metadata": {},
   "outputs": [],
   "source": [
    "f1_score(y_test, y_pred, average='weighted')"
   ]
  },
  {
   "cell_type": "code",
   "execution_count": null,
   "id": "cf12585c-befe-408d-9f5d-4da8c51cddcd",
   "metadata": {},
   "outputs": [],
   "source": [
    "disp = plot_confusion_matrix(\n",
    "    lg_gs,\n",
    "    X_test,\n",
    "    y_test,\n",
    "    display_labels= [\"Persistent\", \"Non-Persistent\"],\n",
    "    cmap= plt.cm.Blues\n",
    ")\n",
    "\n",
    "print(disp.confusion_matrix)"
   ]
  },
  {
   "cell_type": "code",
   "execution_count": null,
   "id": "477e0204-a1db-4a77-b3ce-65a1adfbdfe7",
   "metadata": {},
   "outputs": [],
   "source": [
    "plot_roc_curve(lg_gs, X_test, y_test)\n",
    "plt.show()"
   ]
  }
 ],
 "metadata": {
  "kernelspec": {
   "display_name": "Python 3 (ipykernel)",
   "language": "python",
   "name": "python3"
  },
  "language_info": {
   "codemirror_mode": {
    "name": "ipython",
    "version": 3
   },
   "file_extension": ".py",
   "mimetype": "text/x-python",
   "name": "python",
   "nbconvert_exporter": "python",
   "pygments_lexer": "ipython3",
   "version": "3.9.13"
  }
 },
 "nbformat": 4,
 "nbformat_minor": 5
}
