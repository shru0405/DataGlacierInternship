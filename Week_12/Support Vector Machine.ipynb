{
 "cells": [
  {
   "cell_type": "code",
   "execution_count": null,
   "id": "c00fc3ed-5744-4920-b824-aa9cbda8aaa4",
   "metadata": {},
   "outputs": [],
   "source": [
    "import numpy as np\n",
    "import pandas as pd\n",
    "from sklearn.svm import SVC\n",
    "from sklearn.model_selection import train_test_split\n",
    "#from sklearn.model_selection import GridSearchCV\n",
    "from sklearn.metrics import accuracy_score"
   ]
  },
  {
   "cell_type": "code",
   "execution_count": null,
   "id": "b4c3ecc8-5a4a-427f-9077-062fa1c6d009",
   "metadata": {},
   "outputs": [],
   "source": [
    "data = pd.read_csv(r\"C:\\Users\\shrut\\Desktop\\Data Glacier Stuff\\Clean_file.csv\")\n",
    "data.head()"
   ]
  },
  {
   "cell_type": "code",
   "execution_count": null,
   "id": "2145f9dd-b949-4d47-83d2-16e2eb74af5f",
   "metadata": {},
   "outputs": [],
   "source": [
    "subset = data.iloc[:,:20]\n",
    "\n",
    "for col in subset.columns:\n",
    "    print(col)\n",
    "    print(subset[col].nunique())"
   ]
  },
  {
   "cell_type": "code",
   "execution_count": null,
   "id": "406863f7-28dc-4862-be2d-036b7f810468",
   "metadata": {},
   "outputs": [],
   "source": [
    "data.drop('Ptid', axis=1, inplace=True)\n",
    "data['Persistency_Flag'].replace({'Persistent': 1, 'Non-Persistent': -1}, inplace=True)\n",
    "data = pd.get_dummies(data)\n",
    "\n",
    "data.head()"
   ]
  },
  {
   "cell_type": "code",
   "execution_count": null,
   "id": "3a00161f-9338-40da-bd6e-7672229d6643",
   "metadata": {},
   "outputs": [],
   "source": [
    "data.dtypes"
   ]
  },
  {
   "cell_type": "code",
   "execution_count": null,
   "id": "1235653c-e80e-4be9-a017-04a3ca97c063",
   "metadata": {},
   "outputs": [],
   "source": [
    "data['Persistency_Flag'].value_counts()"
   ]
  },
  {
   "cell_type": "code",
   "execution_count": null,
   "id": "3b341045-8c85-4157-9680-7cae4c29f43f",
   "metadata": {},
   "outputs": [],
   "source": [
    "data.shape"
   ]
  },
  {
   "cell_type": "code",
   "execution_count": null,
   "id": "c2a5a9a3-1805-4dc6-8be0-98cbc5f56592",
   "metadata": {},
   "outputs": [],
   "source": [
    "X = data.drop('Persistency_Flag', axis=1)\n",
    "y = data['Persistency_Flag']\n",
    "\n",
    "X_train, X_test, y_train, y_test = train_test_split(X, y, random_state=1, shuffle=True)\n",
    "\n",
    "model = SVC(kernel = 'linear', random_state=123)\n",
    "model.fit(X_train, y_train)"
   ]
  },
  {
   "cell_type": "code",
   "execution_count": null,
   "id": "3e015e99-71f1-4ad5-9620-c89a01c047c8",
   "metadata": {},
   "outputs": [],
   "source": [
    "predictions = model.predict(X_test)\n",
    "\n",
    "accuracy = accuracy_score(y_test, predictions)\n",
    "\n",
    "print(f'Accuracy upon the test data is {100*accuracy:.2f} %')"
   ]
  }
 ],
 "metadata": {
  "kernelspec": {
   "display_name": "Python 3 (ipykernel)",
   "language": "python",
   "name": "python3"
  },
  "language_info": {
   "codemirror_mode": {
    "name": "ipython",
    "version": 3
   },
   "file_extension": ".py",
   "mimetype": "text/x-python",
   "name": "python",
   "nbconvert_exporter": "python",
   "pygments_lexer": "ipython3",
   "version": "3.9.13"
  }
 },
 "nbformat": 4,
 "nbformat_minor": 5
}
