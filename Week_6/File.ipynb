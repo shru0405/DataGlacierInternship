{
 "cells": [
  {
   "cell_type": "code",
   "execution_count": 1,
   "id": "75c86f4c-d64f-49cd-9fc2-08cb2fe1033b",
   "metadata": {},
   "outputs": [],
   "source": [
    "import os\n",
    "import time"
   ]
  },
  {
   "cell_type": "code",
   "execution_count": 2,
   "id": "9a8c3eb2-8648-4279-8f92-7bdcddfda023",
   "metadata": {},
   "outputs": [
    {
     "data": {
      "text/plain": [
       "2859504349"
      ]
     },
     "execution_count": 2,
     "metadata": {},
     "output_type": "execute_result"
    }
   ],
   "source": [
    "#Size of the file\n",
    "os.path.getsize(r\"C:\\Users\\shrut\\Desktop\\Data Glacier Stuff\\Data\\Books_rating.csv\")"
   ]
  },
  {
   "cell_type": "code",
   "execution_count": 3,
   "id": "8e4f8405-6590-4fa7-855c-83b83260e44d",
   "metadata": {},
   "outputs": [
    {
     "name": "stdout",
     "output_type": "stream",
     "text": [
      "Read csv with dask:  0.022001028060913086 sec\n"
     ]
    }
   ],
   "source": [
    "from dask import dataframe as dd\n",
    "start = time.time()\n",
    "dask_df2 = dd.read_csv(r\"C:\\Users\\shrut\\Desktop\\Data Glacier Stuff\\Data\\Books_rating.csv\")\n",
    "end = time.time()\n",
    "print(\"Read csv with dask: \",(end-start),\"sec\")"
   ]
  },
  {
   "cell_type": "code",
   "execution_count": 4,
   "id": "1059e02c-bde5-4e91-8b50-a9578e868d21",
   "metadata": {},
   "outputs": [
    {
     "name": "stdout",
     "output_type": "stream",
     "text": [
      "Read csv with pandas:  32.354231119155884 sec\n"
     ]
    }
   ],
   "source": [
    "import pandas as pd\n",
    "start = time.time()\n",
    "df2 = pd.read_csv(r\"C:\\Users\\shrut\\Desktop\\Data Glacier Stuff\\Data\\Books_rating.csv\")\n",
    "end = time.time()\n",
    "print(\"Read csv with pandas: \",(end-start),\"sec\")"
   ]
  },
  {
   "cell_type": "code",
   "execution_count": 5,
   "id": "2754243e-949c-4330-9a63-d6031bdf6169",
   "metadata": {},
   "outputs": [
    {
     "name": "stderr",
     "output_type": "stream",
     "text": [
      "2023-02-11 16:01:17,661\tINFO worker.py:1529 -- Started a local Ray instance. View the dashboard at \u001b[1m\u001b[32m127.0.0.1:8265 \u001b[39m\u001b[22m\n",
      "UserWarning: When using a pre-initialized Ray cluster, please ensure that the runtime env sets environment variable __MODIN_AUTOIMPORT_PANDAS__ to 1\n"
     ]
    },
    {
     "name": "stdout",
     "output_type": "stream",
     "text": [
      "Read csv with modin and ray:  34.69835424423218 sec\n"
     ]
    }
   ],
   "source": [
    "import modin.pandas as pd\n",
    "import ray\n",
    "import time\n",
    "ray.shutdown()\n",
    "ray.init()\n",
    "start = time.time()\n",
    "df2 = pd.read_csv(r\"C:\\Users\\shrut\\Desktop\\Data Glacier Stuff\\Data\\Books_rating.csv\")\n",
    "end = time.time()\n",
    "print(\"Read csv with modin and ray: \",(end-start),\"sec\")"
   ]
  },
  {
   "cell_type": "code",
   "execution_count": 6,
   "id": "cda7909b-0052-4c99-86c4-31645d28fde6",
   "metadata": {},
   "outputs": [
    {
     "name": "stdout",
     "output_type": "stream",
     "text": [
      "<class 'pandas.core.frame.DataFrame'>\n",
      "RangeIndex: 3000000 entries, 0 to 2999999\n",
      "Data columns (total 10 columns):\n",
      " #   Column              Dtype  \n",
      "---  ------              -----  \n",
      " 0   Id                  object \n",
      " 1   Title               object \n",
      " 2   Price               float64\n",
      " 3   User_id             object \n",
      " 4   profileName         object \n",
      " 5   review/helpfulness  object \n",
      " 6   review/score        float64\n",
      " 7   review/time         int64  \n",
      " 8   review/summary      object \n",
      " 9   review/text         object \n",
      "dtypes: float64(2), int64(1), object(7)\n",
      "memory usage: 228.9+ MB\n"
     ]
    }
   ],
   "source": [
    "from dask import dataframe as dd\n",
    "import pandas as pd\n",
    "df2 = pd.read_csv(r\"C:\\Users\\shrut\\Desktop\\Data Glacier Stuff\\Data\\Books_rating.csv\", sep=',', dtype={'a': object})\n",
    "df2.info()"
   ]
  },
  {
   "cell_type": "code",
   "execution_count": 7,
   "id": "02d33196-63cf-4c76-8c2d-f7c0eef596b0",
   "metadata": {},
   "outputs": [
    {
     "data": {
      "text/plain": [
       "3000000"
      ]
     },
     "execution_count": 7,
     "metadata": {},
     "output_type": "execute_result"
    }
   ],
   "source": [
    "#No. of Rows\n",
    "len(df2.index)"
   ]
  },
  {
   "cell_type": "code",
   "execution_count": 8,
   "id": "6ae5b9f2-3562-4558-9f3d-ba43614cddd3",
   "metadata": {},
   "outputs": [
    {
     "data": {
      "text/plain": [
       "10"
      ]
     },
     "execution_count": 8,
     "metadata": {},
     "output_type": "execute_result"
    }
   ],
   "source": [
    "#No, of Columns\n",
    "len(df2.columns)"
   ]
  },
  {
   "cell_type": "code",
   "execution_count": 9,
   "id": "b69c273a-ae16-489a-8828-d5b2a50cdfb1",
   "metadata": {},
   "outputs": [
    {
     "name": "stderr",
     "output_type": "stream",
     "text": [
      "FutureWarning: The default value of regex will change from True to False in a future version.\n"
     ]
    }
   ],
   "source": [
    "# remove special characters\n",
    "df2.columns=df2.columns.str.replace('[#,@,&]','')"
   ]
  },
  {
   "cell_type": "code",
   "execution_count": 10,
   "id": "9dbca226-e9d8-4aef-b301-c52e1f39326f",
   "metadata": {},
   "outputs": [],
   "source": [
    "#To remove white space from columns\n",
    "df2.columns = df2.columns.str.replace(' ', '')"
   ]
  },
  {
   "cell_type": "code",
   "execution_count": 11,
   "id": "76d17f49-56ad-4db6-ad63-aead01f29889",
   "metadata": {},
   "outputs": [
    {
     "data": {
      "text/plain": [
       "Index(['Id', 'Title', 'Price', 'User_id', 'profileName', 'review/helpfulness',\n",
       "       'review/score', 'review/time', 'review/summary', 'review/text'],\n",
       "      dtype='object')"
      ]
     },
     "execution_count": 11,
     "metadata": {},
     "output_type": "execute_result"
    }
   ],
   "source": [
    "data=df2.columns\n",
    "data"
   ]
  },
  {
   "cell_type": "code",
   "execution_count": 12,
   "id": "bfbd0042-0d7e-41a1-a625-94579ca2ab8f",
   "metadata": {},
   "outputs": [
    {
     "name": "stdout",
     "output_type": "stream",
     "text": [
      "Writing utility.py\n"
     ]
    }
   ],
   "source": [
    "%%writefile utility.py\n",
    "#VALIDATING\n",
    "import logging\n",
    "import os\n",
    "import subprocess\n",
    "import yaml\n",
    "import pandas as pd\n",
    "import datetime \n",
    "import gc\n",
    "import re\n",
    "import configparser\n",
    "\n",
    "def read_config_file(filepath='store.yaml'):\n",
    "    with open(filepath, 'r') as stream:\n",
    "        try:\n",
    "            return yaml.load(stream, Loader=yaml.Loader)\n",
    "        except yaml.YAMLError as exc:\n",
    "            logging.error(exc)\n",
    "\n",
    "\n",
    "def replacer(string, char):\n",
    "    pattern = char + '{2,}'\n",
    "    string = re.sub(pattern, char, string) \n",
    "    return string\n",
    "\n",
    "def col_header_val(df2,table_config):\n",
    "    '''\n",
    "    replace whitespaces in the column\n",
    "    and standardized column names\n",
    "    '''\n",
    "    df2.columns = df2.columns.str.lower()\n",
    "    df2.columns = df2.columns.str.replace('[^\\w]','_',regex=True)\n",
    "    df2.columns = list(map(lambda x: x.strip('_'), list(df2.columns)))\n",
    "    df2.columns = list(map(lambda x: replacer(x,'_'), list(df2.columns)))\n",
    "    expected_col = list(map(lambda x: x.lower(),  table_config['columns']))\n",
    "    expected_col.sort()\n",
    "    df2.columns =list(map(lambda x: x.lower(), list(df2.columns)))\n",
    "    df2 = df2.reindex(sorted(df2.columns), axis=1)\n",
    "    if len(df2.columns) == len(expected_col) and list(expected_col)  == list(df2.columns):\n",
    "        print(\"column name and column length validation passed\")\n",
    "        return 1\n",
    "    else:\n",
    "        print(\"column name and column length validation failed\")\n",
    "        mismatched_columns_file = list(set(df2.columns).difference(expected_col))\n",
    "        print(\"Following File columns are not in the YAML file\",mismatched_columns_file)\n",
    "        missing_YAML_file = list(set(expected_col).difference(df2.columns))\n",
    "        print(\"Following YAML columns are not in the file uploaded\",missing_YAML_file)\n",
    "        logging.info(f'df2 columns: {df2.columns}')\n",
    "        logging.info(f'expected columns: {expected_col}')\n",
    "        return 0"
   ]
  },
  {
   "cell_type": "code",
   "execution_count": 13,
   "id": "8f3c7088-9c6d-439c-8868-b473d6b255df",
   "metadata": {},
   "outputs": [
    {
     "name": "stdout",
     "output_type": "stream",
     "text": [
      "Writing store.yaml\n"
     ]
    }
   ],
   "source": [
    "%%writefile store.yaml\n",
    "\n",
    "config_data = file_type: csv\n",
    "dataset_name: Books_rating\n",
    "file_name: Books_rating\n",
    "table_name: edsurv\n",
    "inbound_delimiter: \",\"\n",
    "outbound_delimiter: \"|\"\n",
    "skip_leading_rows: 1\n",
    "columns: \n",
    "    -Id \n",
    "    -Title \n",
    "    -Price\n",
    "    -User_id\n",
    "    -profileName \n",
    "    -review/helpfulness \n",
    "    -review/score \n",
    "    -review/time\n",
    "    -review/summary\n",
    "    -review/text\n"
   ]
  },
  {
   "cell_type": "code",
   "execution_count": 14,
   "id": "8044f0d0-9f12-4d74-ad3f-09092534e2d8",
   "metadata": {},
   "outputs": [],
   "source": [
    "# Reading config file\n",
    "import utility as util\n",
    "import yaml\n",
    "config_data = util.read_config_file(\"store.yaml\")"
   ]
  },
  {
   "cell_type": "code",
   "execution_count": 15,
   "id": "8a80205b-8061-4810-89e3-1e14c730968c",
   "metadata": {},
   "outputs": [
    {
     "data": {
      "text/plain": [
       "{'config_data = file_type': 'csv',\n",
       " 'dataset_name': 'Books_rating',\n",
       " 'file_name': 'Books_rating',\n",
       " 'table_name': 'edsurv',\n",
       " 'inbound_delimiter': ',',\n",
       " 'outbound_delimiter': '|',\n",
       " 'skip_leading_rows': 1,\n",
       " 'columns': '-Id -Title -Price -User_id -profileName -review/helpfulness -review/score -review/time -review/summary -review/text'}"
      ]
     },
     "execution_count": 15,
     "metadata": {},
     "output_type": "execute_result"
    }
   ],
   "source": [
    "#data of config file\n",
    "config_data"
   ]
  },
  {
   "cell_type": "code",
   "execution_count": 16,
   "id": "dc94277d-13b2-4874-8915-1747ddcdd2e0",
   "metadata": {},
   "outputs": [
    {
     "data": {
      "text/html": [
       "<div>\n",
       "<style scoped>\n",
       "    .dataframe tbody tr th:only-of-type {\n",
       "        vertical-align: middle;\n",
       "    }\n",
       "\n",
       "    .dataframe tbody tr th {\n",
       "        vertical-align: top;\n",
       "    }\n",
       "\n",
       "    .dataframe thead th {\n",
       "        text-align: right;\n",
       "    }\n",
       "</style>\n",
       "<table border=\"1\" class=\"dataframe\">\n",
       "  <thead>\n",
       "    <tr style=\"text-align: right;\">\n",
       "      <th></th>\n",
       "      <th>Id</th>\n",
       "      <th>Title</th>\n",
       "      <th>Price</th>\n",
       "      <th>User_id</th>\n",
       "      <th>profileName</th>\n",
       "      <th>review/helpfulness</th>\n",
       "      <th>review/score</th>\n",
       "      <th>review/time</th>\n",
       "      <th>review/summary</th>\n",
       "      <th>review/text</th>\n",
       "    </tr>\n",
       "  </thead>\n",
       "  <tbody>\n",
       "    <tr>\n",
       "      <th>0</th>\n",
       "      <td>1882931173</td>\n",
       "      <td>Its Only Art If Its Well Hung!</td>\n",
       "      <td>NaN</td>\n",
       "      <td>AVCGYZL8FQQTD</td>\n",
       "      <td>Jim of Oz \"jim-of-oz\"</td>\n",
       "      <td>7/7</td>\n",
       "      <td>4.0</td>\n",
       "      <td>940636800</td>\n",
       "      <td>Nice collection of Julie Strain images</td>\n",
       "      <td>This is only for Julie Strain fans. It's a col...</td>\n",
       "    </tr>\n",
       "    <tr>\n",
       "      <th>1</th>\n",
       "      <td>0826414346</td>\n",
       "      <td>Dr. Seuss: American Icon</td>\n",
       "      <td>NaN</td>\n",
       "      <td>A30TK6U7DNS82R</td>\n",
       "      <td>Kevin Killian</td>\n",
       "      <td>10/10</td>\n",
       "      <td>5.0</td>\n",
       "      <td>1095724800</td>\n",
       "      <td>Really Enjoyed It</td>\n",
       "      <td>I don't care much for Dr. Seuss but after read...</td>\n",
       "    </tr>\n",
       "    <tr>\n",
       "      <th>2</th>\n",
       "      <td>0826414346</td>\n",
       "      <td>Dr. Seuss: American Icon</td>\n",
       "      <td>NaN</td>\n",
       "      <td>A3UH4UZ4RSVO82</td>\n",
       "      <td>John Granger</td>\n",
       "      <td>10/11</td>\n",
       "      <td>5.0</td>\n",
       "      <td>1078790400</td>\n",
       "      <td>Essential for every personal and Public Library</td>\n",
       "      <td>If people become the books they read and if \"t...</td>\n",
       "    </tr>\n",
       "    <tr>\n",
       "      <th>3</th>\n",
       "      <td>0826414346</td>\n",
       "      <td>Dr. Seuss: American Icon</td>\n",
       "      <td>NaN</td>\n",
       "      <td>A2MVUWT453QH61</td>\n",
       "      <td>Roy E. Perry \"amateur philosopher\"</td>\n",
       "      <td>7/7</td>\n",
       "      <td>4.0</td>\n",
       "      <td>1090713600</td>\n",
       "      <td>Phlip Nel gives silly Seuss a serious treatment</td>\n",
       "      <td>Theodore Seuss Geisel (1904-1991), aka &amp;quot;D...</td>\n",
       "    </tr>\n",
       "    <tr>\n",
       "      <th>4</th>\n",
       "      <td>0826414346</td>\n",
       "      <td>Dr. Seuss: American Icon</td>\n",
       "      <td>NaN</td>\n",
       "      <td>A22X4XUPKF66MR</td>\n",
       "      <td>D. H. Richards \"ninthwavestore\"</td>\n",
       "      <td>3/3</td>\n",
       "      <td>4.0</td>\n",
       "      <td>1107993600</td>\n",
       "      <td>Good academic overview</td>\n",
       "      <td>Philip Nel - Dr. Seuss: American IconThis is b...</td>\n",
       "    </tr>\n",
       "  </tbody>\n",
       "</table>\n",
       "</div>"
      ],
      "text/plain": [
       "           Id                           Title  Price         User_id  \\\n",
       "0  1882931173  Its Only Art If Its Well Hung!    NaN   AVCGYZL8FQQTD   \n",
       "1  0826414346        Dr. Seuss: American Icon    NaN  A30TK6U7DNS82R   \n",
       "2  0826414346        Dr. Seuss: American Icon    NaN  A3UH4UZ4RSVO82   \n",
       "3  0826414346        Dr. Seuss: American Icon    NaN  A2MVUWT453QH61   \n",
       "4  0826414346        Dr. Seuss: American Icon    NaN  A22X4XUPKF66MR   \n",
       "\n",
       "                          profileName review/helpfulness  review/score  \\\n",
       "0               Jim of Oz \"jim-of-oz\"                7/7           4.0   \n",
       "1                       Kevin Killian              10/10           5.0   \n",
       "2                        John Granger              10/11           5.0   \n",
       "3  Roy E. Perry \"amateur philosopher\"                7/7           4.0   \n",
       "4     D. H. Richards \"ninthwavestore\"                3/3           4.0   \n",
       "\n",
       "   review/time                                   review/summary  \\\n",
       "0    940636800           Nice collection of Julie Strain images   \n",
       "1   1095724800                                Really Enjoyed It   \n",
       "2   1078790400  Essential for every personal and Public Library   \n",
       "3   1090713600  Phlip Nel gives silly Seuss a serious treatment   \n",
       "4   1107993600                           Good academic overview   \n",
       "\n",
       "                                         review/text  \n",
       "0  This is only for Julie Strain fans. It's a col...  \n",
       "1  I don't care much for Dr. Seuss but after read...  \n",
       "2  If people become the books they read and if \"t...  \n",
       "3  Theodore Seuss Geisel (1904-1991), aka &quot;D...  \n",
       "4  Philip Nel - Dr. Seuss: American IconThis is b...  "
      ]
     },
     "execution_count": 16,
     "metadata": {},
     "output_type": "execute_result"
    }
   ],
   "source": [
    "# Reading process of the file using Dask\n",
    "from dask import dataframe as dd\n",
    "import pandas as pd\n",
    "\n",
    "df2_sample = pd.read_csv(r\"C:\\Users\\shrut\\Desktop\\Data Glacier Stuff\\Data\\Books_rating.csv\", sep=',' , dtype={'Id': object, 'Title': object,'Price':float, 'User_id':object, 'profile_name':object, 'review/helpfulness':object, 'review/score':float, 'review/time':int, 'review/summary': object, 'review/text':object}, encoding=\"UTF-8\")\n",
    "\n",
    "df2_sample.head()"
   ]
  },
  {
   "cell_type": "code",
   "execution_count": 17,
   "id": "333af1b2-dd32-4d96-8625-ac2c7c6fc3c4",
   "metadata": {},
   "outputs": [],
   "source": [
    "#file_type = config_data['file_type']\n",
    "source_file = r\"C:\\Users\\shrut\\Desktop\\Data Glacier Stuff\\Data\\Books_rating.csv\"\n",
    "#+ config_data['file_name'] + f'.{file_type}'"
   ]
  },
  {
   "cell_type": "code",
   "execution_count": 18,
   "id": "2b1fa1b9-2cd6-4c53-9cb3-24679728ef2d",
   "metadata": {},
   "outputs": [
    {
     "name": "stderr",
     "output_type": "stream",
     "text": [
      "FutureWarning: In a future version of pandas all arguments of read_csv except for the argument 'filepath_or_buffer' will be keyword-only.\n"
     ]
    },
    {
     "data": {
      "text/html": [
       "<div>\n",
       "<style scoped>\n",
       "    .dataframe tbody tr th:only-of-type {\n",
       "        vertical-align: middle;\n",
       "    }\n",
       "\n",
       "    .dataframe tbody tr th {\n",
       "        vertical-align: top;\n",
       "    }\n",
       "\n",
       "    .dataframe thead th {\n",
       "        text-align: right;\n",
       "    }\n",
       "</style>\n",
       "<table border=\"1\" class=\"dataframe\">\n",
       "  <thead>\n",
       "    <tr style=\"text-align: right;\">\n",
       "      <th></th>\n",
       "      <th>Id</th>\n",
       "      <th>Title</th>\n",
       "      <th>Price</th>\n",
       "      <th>User_id</th>\n",
       "      <th>profileName</th>\n",
       "      <th>review/helpfulness</th>\n",
       "      <th>review/score</th>\n",
       "      <th>review/time</th>\n",
       "      <th>review/summary</th>\n",
       "      <th>review/text</th>\n",
       "    </tr>\n",
       "  </thead>\n",
       "  <tbody>\n",
       "    <tr>\n",
       "      <th>0</th>\n",
       "      <td>1882931173</td>\n",
       "      <td>Its Only Art If Its Well Hung!</td>\n",
       "      <td>NaN</td>\n",
       "      <td>AVCGYZL8FQQTD</td>\n",
       "      <td>Jim of Oz \"jim-of-oz\"</td>\n",
       "      <td>7/7</td>\n",
       "      <td>4.0</td>\n",
       "      <td>940636800</td>\n",
       "      <td>Nice collection of Julie Strain images</td>\n",
       "      <td>This is only for Julie Strain fans. It's a col...</td>\n",
       "    </tr>\n",
       "    <tr>\n",
       "      <th>1</th>\n",
       "      <td>0826414346</td>\n",
       "      <td>Dr. Seuss: American Icon</td>\n",
       "      <td>NaN</td>\n",
       "      <td>A30TK6U7DNS82R</td>\n",
       "      <td>Kevin Killian</td>\n",
       "      <td>10/10</td>\n",
       "      <td>5.0</td>\n",
       "      <td>1095724800</td>\n",
       "      <td>Really Enjoyed It</td>\n",
       "      <td>I don't care much for Dr. Seuss but after read...</td>\n",
       "    </tr>\n",
       "    <tr>\n",
       "      <th>2</th>\n",
       "      <td>0826414346</td>\n",
       "      <td>Dr. Seuss: American Icon</td>\n",
       "      <td>NaN</td>\n",
       "      <td>A3UH4UZ4RSVO82</td>\n",
       "      <td>John Granger</td>\n",
       "      <td>10/11</td>\n",
       "      <td>5.0</td>\n",
       "      <td>1078790400</td>\n",
       "      <td>Essential for every personal and Public Library</td>\n",
       "      <td>If people become the books they read and if \"t...</td>\n",
       "    </tr>\n",
       "    <tr>\n",
       "      <th>3</th>\n",
       "      <td>0826414346</td>\n",
       "      <td>Dr. Seuss: American Icon</td>\n",
       "      <td>NaN</td>\n",
       "      <td>A2MVUWT453QH61</td>\n",
       "      <td>Roy E. Perry \"amateur philosopher\"</td>\n",
       "      <td>7/7</td>\n",
       "      <td>4.0</td>\n",
       "      <td>1090713600</td>\n",
       "      <td>Phlip Nel gives silly Seuss a serious treatment</td>\n",
       "      <td>Theodore Seuss Geisel (1904-1991), aka &amp;quot;D...</td>\n",
       "    </tr>\n",
       "    <tr>\n",
       "      <th>4</th>\n",
       "      <td>0826414346</td>\n",
       "      <td>Dr. Seuss: American Icon</td>\n",
       "      <td>NaN</td>\n",
       "      <td>A22X4XUPKF66MR</td>\n",
       "      <td>D. H. Richards \"ninthwavestore\"</td>\n",
       "      <td>3/3</td>\n",
       "      <td>4.0</td>\n",
       "      <td>1107993600</td>\n",
       "      <td>Good academic overview</td>\n",
       "      <td>Philip Nel - Dr. Seuss: American IconThis is b...</td>\n",
       "    </tr>\n",
       "  </tbody>\n",
       "</table>\n",
       "</div>"
      ],
      "text/plain": [
       "           Id                           Title  Price         User_id  \\\n",
       "0  1882931173  Its Only Art If Its Well Hung!    NaN   AVCGYZL8FQQTD   \n",
       "1  0826414346        Dr. Seuss: American Icon    NaN  A30TK6U7DNS82R   \n",
       "2  0826414346        Dr. Seuss: American Icon    NaN  A3UH4UZ4RSVO82   \n",
       "3  0826414346        Dr. Seuss: American Icon    NaN  A2MVUWT453QH61   \n",
       "4  0826414346        Dr. Seuss: American Icon    NaN  A22X4XUPKF66MR   \n",
       "\n",
       "                          profileName review/helpfulness  review/score  \\\n",
       "0               Jim of Oz \"jim-of-oz\"                7/7           4.0   \n",
       "1                       Kevin Killian              10/10           5.0   \n",
       "2                        John Granger              10/11           5.0   \n",
       "3  Roy E. Perry \"amateur philosopher\"                7/7           4.0   \n",
       "4     D. H. Richards \"ninthwavestore\"                3/3           4.0   \n",
       "\n",
       "   review/time                                   review/summary  \\\n",
       "0    940636800           Nice collection of Julie Strain images   \n",
       "1   1095724800                                Really Enjoyed It   \n",
       "2   1078790400  Essential for every personal and Public Library   \n",
       "3   1090713600  Phlip Nel gives silly Seuss a serious treatment   \n",
       "4   1107993600                           Good academic overview   \n",
       "\n",
       "                                         review/text  \n",
       "0  This is only for Julie Strain fans. It's a col...  \n",
       "1  I don't care much for Dr. Seuss but after read...  \n",
       "2  If people become the books they read and if \"t...  \n",
       "3  Theodore Seuss Geisel (1904-1991), aka &quot;D...  \n",
       "4  Philip Nel - Dr. Seuss: American IconThis is b...  "
      ]
     },
     "execution_count": 18,
     "metadata": {},
     "output_type": "execute_result"
    }
   ],
   "source": [
    "import pandas as pd\n",
    "df2 = pd.read_csv(source_file,config_data['inbound_delimiter'])\n",
    "df2.head()"
   ]
  },
  {
   "cell_type": "code",
   "execution_count": 19,
   "id": "282293a7-b378-4c73-86c8-c9439bd62b88",
   "metadata": {},
   "outputs": [
    {
     "name": "stdout",
     "output_type": "stream",
     "text": [
      "column name and column length validation failed\n",
      "Following File columns are not in the YAML file ['id', 'review_time', 'review_helpfulness', 'profilename', 'review_summary', 'price', 'user_id', 'review_score', 'title', 'review_text']\n",
      "Following YAML columns are not in the file uploaded ['l', 'a', 'c', 'h', 'w', 'e', 'd', ' ', '-', 'r', 'm', 'f', 'x', 'n', '/', 'i', 'p', '_', 'o', 'y', 's', 'v', 't', 'u']\n"
     ]
    },
    {
     "data": {
      "text/plain": [
       "0"
      ]
     },
     "execution_count": 19,
     "metadata": {},
     "output_type": "execute_result"
    }
   ],
   "source": [
    "#validating the header of the file\n",
    "util.col_header_val(df2,config_data)"
   ]
  },
  {
   "cell_type": "code",
   "execution_count": 20,
   "id": "0484b727-5d46-49d8-8291-023281cf0ace",
   "metadata": {},
   "outputs": [
    {
     "name": "stdout",
     "output_type": "stream",
     "text": [
      "columns of files are: Index(['id', 'title', 'price', 'user_id', 'profilename', 'review_helpfulness',\n",
      "       'review_score', 'review_time', 'review_summary', 'review_text'],\n",
      "      dtype='object')\n",
      "columns of YAML are: -Id -Title -Price -User_id -profileName -review/helpfulness -review/score -review/time -review/summary -review/text\n"
     ]
    }
   ],
   "source": [
    "print(\"columns of files are:\" ,df2.columns)\n",
    "print(\"columns of YAML are:\" ,config_data['columns'])"
   ]
  },
  {
   "cell_type": "code",
   "execution_count": 21,
   "id": "12874050-b600-44eb-972a-ed795c1b9260",
   "metadata": {},
   "outputs": [
    {
     "name": "stdout",
     "output_type": "stream",
     "text": [
      "column name and column length validation failed\n",
      "Following File columns are not in the YAML file ['id', 'review_time', 'review_helpfulness', 'profilename', 'review_summary', 'price', 'user_id', 'review_score', 'title', 'review_text']\n",
      "Following YAML columns are not in the file uploaded ['l', 'a', 'c', 'h', 'w', 'e', 'd', ' ', '-', 'r', 'm', 'f', 'x', 'n', '/', 'i', 'p', '_', 'o', 'y', 's', 'v', 't', 'u']\n",
      "validation failed\n"
     ]
    }
   ],
   "source": [
    "if util.col_header_val(df2,config_data)==0:\n",
    "    print(\"validation failed\")\n",
    "else:\n",
    "    print(\"col validation passed\")"
   ]
  },
  {
   "cell_type": "code",
   "execution_count": 22,
   "id": "9681a1ed-6447-46c2-9895-83940cb3bd67",
   "metadata": {},
   "outputs": [],
   "source": [
    "import datetime\n",
    "import csv\n",
    "import gzip\n",
    "\n",
    "from dask import dataframe as dd\n",
    "import pandas\n",
    "\n",
    "df2 = pd.read_csv(r\"C:\\Users\\shrut\\Desktop\\Data Glacier Stuff\\Data\\Books_rating.csv\",sep=',',header=0,dtype={'a': object},encoding=\"UTF-8\")\n",
    "df2.head()\n",
    "# Write csv in gz format in pipe separated text file (|)\n",
    "df2.to_csv('Books_rating.csv.gz',\n",
    "          sep='|',\n",
    "          header=True,\n",
    "          index=False,\n",
    "          quoting=csv.QUOTE_ALL,\n",
    "          compression='gzip',\n",
    "          quotechar='\"',\n",
    "          doublequote=True,\n",
    "          lineterminator='\\n')"
   ]
  },
  {
   "cell_type": "code",
   "execution_count": 23,
   "id": "d34b0655-8d90-476f-878d-c707cded5113",
   "metadata": {},
   "outputs": [
    {
     "name": "stdout",
     "output_type": "stream",
     "text": [
      "Number of .gz files in the directory: 1\n"
     ]
    }
   ],
   "source": [
    "import os\n",
    "path = r\"C:\\Users\\shrut\\Desktop\\Data Glacier Stuff\\Data\"\n",
    "entries = os.listdir(path)\n",
    "count = 0\n",
    "for entry in entries:\n",
    "    if entry.endswith(\".gz\"):\n",
    "        count += 1\n",
    "\n",
    "print(\"Number of .gz files in the directory:\", count)"
   ]
  },
  {
   "cell_type": "code",
   "execution_count": 24,
   "id": "68bdd447-7a56-44e5-b6c0-7208e02c199a",
   "metadata": {},
   "outputs": [
    {
     "name": "stdout",
     "output_type": "stream",
     "text": [
      "Total number of rows: 3000000\n"
     ]
    }
   ],
   "source": [
    "#No. of Rows\n",
    "print(\"Total number of rows:\", len(df2.index))"
   ]
  },
  {
   "cell_type": "code",
   "execution_count": 25,
   "id": "50f3d833-7821-43d8-9f6d-6152ec14ec78",
   "metadata": {},
   "outputs": [
    {
     "name": "stdout",
     "output_type": "stream",
     "text": [
      "Total number of columns: 10\n"
     ]
    }
   ],
   "source": [
    "#No, of Columns\n",
    "print(\"Total number of columns:\", len(df2.columns))"
   ]
  },
  {
   "cell_type": "code",
   "execution_count": 26,
   "id": "04afca7f-381d-4603-ba24-21ad579c5f88",
   "metadata": {},
   "outputs": [
    {
     "name": "stdout",
     "output_type": "stream",
     "text": [
      "File size is: 1060588862\n"
     ]
    },
    {
     "name": "stderr",
     "output_type": "stream",
     "text": [
      "\u001b[2m\u001b[36m(_deploy_ray_func pid=13340)\u001b[0m 2023-02-11 16:11:14,474\tERROR import_thread.py:75 -- ImportThread: <_MultiThreadedRendezvous of RPC that terminated with:\n",
      "\u001b[2m\u001b[36m(_deploy_ray_func pid=13340)\u001b[0m \tstatus = StatusCode.UNKNOWN\n",
      "\u001b[2m\u001b[36m(_deploy_ray_func pid=13340)\u001b[0m \tdetails = \"Stream removed\"\n",
      "\u001b[2m\u001b[36m(_deploy_ray_func pid=13340)\u001b[0m \tdebug_error_string = \"{\"created\":\"@1676149874.444000000\",\"description\":\"Error received from peer ipv4:127.0.0.1:60905\",\"file\":\"src/core/lib/surface/call.cc\",\"file_line\":1064,\"grpc_message\":\"Stream removed\",\"grpc_status\":2}\"\n",
      "\u001b[2m\u001b[36m(_deploy_ray_func pid=13340)\u001b[0m >\n",
      "\u001b[2m\u001b[36m(_deploy_ray_func pid=17464)\u001b[0m 2023-02-11 16:11:14,458\tERROR import_thread.py:75 -- ImportThread: <_MultiThreadedRendezvous of RPC that terminated with:\n",
      "\u001b[2m\u001b[36m(_deploy_ray_func pid=17464)\u001b[0m \tstatus = StatusCode.UNKNOWN\n",
      "\u001b[2m\u001b[36m(_deploy_ray_func pid=17464)\u001b[0m \tdetails = \"Stream removed\"\n",
      "\u001b[2m\u001b[36m(_deploy_ray_func pid=17464)\u001b[0m \tdebug_error_string = \"{\"created\":\"@1676149874.444000000\",\"description\":\"Error received from peer ipv4:127.0.0.1:60905\",\"file\":\"src/core/lib/surface/call.cc\",\"file_line\":1064,\"grpc_message\":\"Stream removed\",\"grpc_status\":2}\"\n",
      "\u001b[2m\u001b[36m(_deploy_ray_func pid=17464)\u001b[0m >\n",
      "\u001b[2m\u001b[36m(_deploy_ray_func pid=4176)\u001b[0m 2023-02-11 16:11:14,458\tERROR import_thread.py:75 -- ImportThread: <_MultiThreadedRendezvous of RPC that terminated with:\n",
      "\u001b[2m\u001b[36m(_deploy_ray_func pid=4176)\u001b[0m \tstatus = StatusCode.UNKNOWN\n",
      "\u001b[2m\u001b[36m(_deploy_ray_func pid=4176)\u001b[0m \tdetails = \"Stream removed\"\n",
      "\u001b[2m\u001b[36m(_deploy_ray_func pid=4176)\u001b[0m \tdebug_error_string = \"{\"created\":\"@1676149874.441000000\",\"description\":\"Error received from peer ipv4:127.0.0.1:60905\",\"file\":\"src/core/lib/surface/call.cc\",\"file_line\":1064,\"grpc_message\":\"Stream removed\",\"grpc_status\":2}\"\n",
      "\u001b[2m\u001b[36m(_deploy_ray_func pid=4176)\u001b[0m >\n",
      "\u001b[2m\u001b[36m(_deploy_ray_func pid=4816)\u001b[0m 2023-02-11 16:11:14,506\tERROR import_thread.py:75 -- ImportThread: <_MultiThreadedRendezvous of RPC that terminated with:\n",
      "\u001b[2m\u001b[36m(_deploy_ray_func pid=4816)\u001b[0m \tstatus = StatusCode.UNKNOWN\n",
      "\u001b[2m\u001b[36m(_deploy_ray_func pid=4816)\u001b[0m \tdetails = \"Stream removed\"\n",
      "\u001b[2m\u001b[36m(_deploy_ray_func pid=4816)\u001b[0m \tdebug_error_string = \"{\"created\":\"@1676149874.441000000\",\"description\":\"Error received from peer ipv4:127.0.0.1:60905\",\"file\":\"src/core/lib/surface/call.cc\",\"file_line\":1064,\"grpc_message\":\"Stream removed\",\"grpc_status\":2}\"\n",
      "\u001b[2m\u001b[36m(_deploy_ray_func pid=4816)\u001b[0m >\n",
      "\u001b[2m\u001b[36m(_deploy_ray_func pid=19636)\u001b[0m 2023-02-11 16:11:14,474\tERROR import_thread.py:75 -- ImportThread: <_MultiThreadedRendezvous of RPC that terminated with:\n",
      "\u001b[2m\u001b[36m(_deploy_ray_func pid=19636)\u001b[0m \tstatus = StatusCode.UNKNOWN\n",
      "\u001b[2m\u001b[36m(_deploy_ray_func pid=19636)\u001b[0m \tdetails = \"Stream removed\"\n",
      "\u001b[2m\u001b[36m(_deploy_ray_func pid=19636)\u001b[0m \tdebug_error_string = \"{\"created\":\"@1676149874.431000000\",\"description\":\"Error received from peer ipv4:127.0.0.1:60905\",\"file\":\"src/core/lib/surface/call.cc\",\"file_line\":1064,\"grpc_message\":\"Stream removed\",\"grpc_status\":2}\"\n",
      "\u001b[2m\u001b[36m(_deploy_ray_func pid=19636)\u001b[0m >\n",
      "\u001b[2m\u001b[36m(_deploy_ray_func pid=10212)\u001b[0m 2023-02-11 16:11:14,458\tERROR import_thread.py:75 -- ImportThread: <_MultiThreadedRendezvous of RPC that terminated with:\n",
      "\u001b[2m\u001b[36m(_deploy_ray_func pid=10212)\u001b[0m \tstatus = StatusCode.UNKNOWN\n",
      "\u001b[2m\u001b[36m(_deploy_ray_func pid=10212)\u001b[0m \tdetails = \"Stream removed\"\n",
      "\u001b[2m\u001b[36m(_deploy_ray_func pid=10212)\u001b[0m \tdebug_error_string = \"{\"created\":\"@1676149874.438000000\",\"description\":\"Error received from peer ipv4:127.0.0.1:60905\",\"file\":\"src/core/lib/surface/call.cc\",\"file_line\":1064,\"grpc_message\":\"Stream removed\",\"grpc_status\":2}\"\n",
      "\u001b[2m\u001b[36m(_deploy_ray_func pid=10212)\u001b[0m >\n",
      "\u001b[2m\u001b[36m(_deploy_ray_func pid=3256)\u001b[0m 2023-02-11 16:11:14,493\tERROR import_thread.py:75 -- ImportThread: <_MultiThreadedRendezvous of RPC that terminated with:\n",
      "\u001b[2m\u001b[36m(_deploy_ray_func pid=3256)\u001b[0m \tstatus = StatusCode.UNKNOWN\n",
      "\u001b[2m\u001b[36m(_deploy_ray_func pid=3256)\u001b[0m \tdetails = \"Stream removed\"\n",
      "\u001b[2m\u001b[36m(_deploy_ray_func pid=3256)\u001b[0m \tdebug_error_string = \"{\"created\":\"@1676149874.442000000\",\"description\":\"Error received from peer ipv4:127.0.0.1:60905\",\"file\":\"src/core/lib/surface/call.cc\",\"file_line\":1064,\"grpc_message\":\"Stream removed\",\"grpc_status\":2}\"\n",
      "\u001b[2m\u001b[36m(_deploy_ray_func pid=3256)\u001b[0m >\n",
      "\u001b[2m\u001b[36m(_deploy_ray_func pid=21720)\u001b[0m 2023-02-11 16:11:14,506\tERROR import_thread.py:75 -- ImportThread: <_MultiThreadedRendezvous of RPC that terminated with:\n",
      "\u001b[2m\u001b[36m(_deploy_ray_func pid=21720)\u001b[0m \tstatus = StatusCode.UNKNOWN\n",
      "\u001b[2m\u001b[36m(_deploy_ray_func pid=21720)\u001b[0m \tdetails = \"Stream removed\"\n",
      "\u001b[2m\u001b[36m(_deploy_ray_func pid=21720)\u001b[0m \tdebug_error_string = \"{\"created\":\"@1676149874.456000000\",\"description\":\"Error received from peer ipv4:127.0.0.1:60905\",\"file\":\"src/core/lib/surface/call.cc\",\"file_line\":1064,\"grpc_message\":\"Stream removed\",\"grpc_status\":2}\"\n",
      "\u001b[2m\u001b[36m(_deploy_ray_func pid=21720)\u001b[0m >\n",
      "\u001b[2m\u001b[36m(_deploy_ray_func pid=22368)\u001b[0m 2023-02-11 16:11:14,474\tERROR import_thread.py:75 -- ImportThread: <_MultiThreadedRendezvous of RPC that terminated with:\n",
      "\u001b[2m\u001b[36m(_deploy_ray_func pid=22368)\u001b[0m \tstatus = StatusCode.UNKNOWN\n",
      "\u001b[2m\u001b[36m(_deploy_ray_func pid=22368)\u001b[0m \tdetails = \"Stream removed\"\n",
      "\u001b[2m\u001b[36m(_deploy_ray_func pid=22368)\u001b[0m \tdebug_error_string = \"{\"created\":\"@1676149874.441000000\",\"description\":\"Error received from peer ipv4:127.0.0.1:60905\",\"file\":\"src/core/lib/surface/call.cc\",\"file_line\":1064,\"grpc_message\":\"Stream removed\",\"grpc_status\":2}\"\n",
      "\u001b[2m\u001b[36m(_deploy_ray_func pid=22368)\u001b[0m >\n",
      "\u001b[2m\u001b[36m(_deploy_ray_func pid=19856)\u001b[0m 2023-02-11 16:11:14,517\tERROR import_thread.py:75 -- ImportThread: <_MultiThreadedRendezvous of RPC that terminated with:\n",
      "\u001b[2m\u001b[36m(_deploy_ray_func pid=19856)\u001b[0m \tstatus = StatusCode.UNKNOWN\n",
      "\u001b[2m\u001b[36m(_deploy_ray_func pid=19856)\u001b[0m \tdetails = \"Stream removed\"\n",
      "\u001b[2m\u001b[36m(_deploy_ray_func pid=19856)\u001b[0m \tdebug_error_string = \"{\"created\":\"@1676149874.470000000\",\"description\":\"Error received from peer ipv4:127.0.0.1:60905\",\"file\":\"src/core/lib/surface/call.cc\",\"file_line\":1064,\"grpc_message\":\"Stream removed\",\"grpc_status\":2}\"\n",
      "\u001b[2m\u001b[36m(_deploy_ray_func pid=19856)\u001b[0m >\n",
      "\u001b[2m\u001b[36m(_deploy_ray_func pid=19620)\u001b[0m 2023-02-11 16:11:14,538\tERROR import_thread.py:75 -- ImportThread: <_MultiThreadedRendezvous of RPC that terminated with:\n",
      "\u001b[2m\u001b[36m(_deploy_ray_func pid=19620)\u001b[0m \tstatus = StatusCode.UNKNOWN\n",
      "\u001b[2m\u001b[36m(_deploy_ray_func pid=19620)\u001b[0m \tdetails = \"Stream removed\"\n",
      "\u001b[2m\u001b[36m(_deploy_ray_func pid=19620)\u001b[0m \tdebug_error_string = \"{\"created\":\"@1676149874.461000000\",\"description\":\"Error received from peer ipv4:127.0.0.1:60905\",\"file\":\"src/core/lib/surface/call.cc\",\"file_line\":1064,\"grpc_message\":\"Stream removed\",\"grpc_status\":2}\"\n",
      "\u001b[2m\u001b[36m(_deploy_ray_func pid=19620)\u001b[0m >\n",
      "\u001b[2m\u001b[36m(_deploy_ray_func pid=21196)\u001b[0m 2023-02-11 16:11:14,601\tERROR import_thread.py:75 -- ImportThread: <_MultiThreadedRendezvous of RPC that terminated with:\n",
      "\u001b[2m\u001b[36m(_deploy_ray_func pid=21196)\u001b[0m \tstatus = StatusCode.UNKNOWN\n",
      "\u001b[2m\u001b[36m(_deploy_ray_func pid=21196)\u001b[0m \tdetails = \"Stream removed\"\n",
      "\u001b[2m\u001b[36m(_deploy_ray_func pid=21196)\u001b[0m \tdebug_error_string = \"{\"created\":\"@1676149874.582000000\",\"description\":\"Error received from peer ipv4:127.0.0.1:60905\",\"file\":\"src/core/lib/surface/call.cc\",\"file_line\":1064,\"grpc_message\":\"Stream removed\",\"grpc_status\":2}\"\n",
      "\u001b[2m\u001b[36m(_deploy_ray_func pid=21196)\u001b[0m >\n",
      "\u001b[2m\u001b[36m(_deploy_ray_func pid=23612)\u001b[0m 2023-02-11 16:11:14,601\tERROR import_thread.py:75 -- ImportThread: <_MultiThreadedRendezvous of RPC that terminated with:\n",
      "\u001b[2m\u001b[36m(_deploy_ray_func pid=23612)\u001b[0m \tstatus = StatusCode.UNKNOWN\n",
      "\u001b[2m\u001b[36m(_deploy_ray_func pid=23612)\u001b[0m \tdetails = \"Stream removed\"\n",
      "\u001b[2m\u001b[36m(_deploy_ray_func pid=23612)\u001b[0m \tdebug_error_string = \"{\"created\":\"@1676149874.584000000\",\"description\":\"Error received from peer ipv4:127.0.0.1:60905\",\"file\":\"src/core/lib/surface/call.cc\",\"file_line\":1064,\"grpc_message\":\"Stream removed\",\"grpc_status\":2}\"\n",
      "\u001b[2m\u001b[36m(_deploy_ray_func pid=23612)\u001b[0m >\n",
      "\u001b[2m\u001b[36m(_deploy_ray_func pid=19504)\u001b[0m 2023-02-11 16:11:14,601\tERROR import_thread.py:75 -- ImportThread: <_MultiThreadedRendezvous of RPC that terminated with:\n",
      "\u001b[2m\u001b[36m(_deploy_ray_func pid=19504)\u001b[0m \tstatus = StatusCode.UNKNOWN\n",
      "\u001b[2m\u001b[36m(_deploy_ray_func pid=19504)\u001b[0m \tdetails = \"Stream removed\"\n",
      "\u001b[2m\u001b[36m(_deploy_ray_func pid=19504)\u001b[0m \tdebug_error_string = \"{\"created\":\"@1676149874.589000000\",\"description\":\"Error received from peer ipv4:127.0.0.1:60905\",\"file\":\"src/core/lib/surface/call.cc\",\"file_line\":1064,\"grpc_message\":\"Stream removed\",\"grpc_status\":2}\"\n",
      "\u001b[2m\u001b[36m(_deploy_ray_func pid=19504)\u001b[0m >\n",
      "\u001b[2m\u001b[36m(_deploy_ray_func pid=21436)\u001b[0m 2023-02-11 16:11:14,601\tERROR import_thread.py:75 -- ImportThread: <_MultiThreadedRendezvous of RPC that terminated with:\n",
      "\u001b[2m\u001b[36m(_deploy_ray_func pid=21436)\u001b[0m \tstatus = StatusCode.UNKNOWN\n",
      "\u001b[2m\u001b[36m(_deploy_ray_func pid=21436)\u001b[0m \tdetails = \"Stream removed\"\n",
      "\u001b[2m\u001b[36m(_deploy_ray_func pid=21436)\u001b[0m \tdebug_error_string = \"{\"created\":\"@1676149874.576000000\",\"description\":\"Error received from peer ipv4:127.0.0.1:60905\",\"file\":\"src/core/lib/surface/call.cc\",\"file_line\":1064,\"grpc_message\":\"Stream removed\",\"grpc_status\":2}\"\n",
      "\u001b[2m\u001b[36m(_deploy_ray_func pid=21436)\u001b[0m >\n",
      "\u001b[2m\u001b[36m(_deploy_ray_func pid=7876)\u001b[0m 2023-02-11 16:11:14,656\tERROR import_thread.py:75 -- ImportThread: <_MultiThreadedRendezvous of RPC that terminated with:\n",
      "\u001b[2m\u001b[36m(_deploy_ray_func pid=7876)\u001b[0m \tstatus = StatusCode.UNKNOWN\n",
      "\u001b[2m\u001b[36m(_deploy_ray_func pid=7876)\u001b[0m \tdetails = \"Stream removed\"\n",
      "\u001b[2m\u001b[36m(_deploy_ray_func pid=7876)\u001b[0m \tdebug_error_string = \"{\"created\":\"@1676149874.616000000\",\"description\":\"Error received from peer ipv4:127.0.0.1:60905\",\"file\":\"src/core/lib/surface/call.cc\",\"file_line\":1064,\"grpc_message\":\"Stream removed\",\"grpc_status\":2}\"\n",
      "\u001b[2m\u001b[36m(_deploy_ray_func pid=7876)\u001b[0m >\n"
     ]
    }
   ],
   "source": [
    "#size of the gz format folder\n",
    "print(\"File size is:\", os.path.getsize(r\"C:\\Users\\shrut\\Desktop\\Data Glacier Stuff\\Data\\Books_rating.csv.gz\"))"
   ]
  }
 ],
 "metadata": {
  "kernelspec": {
   "display_name": "Python 3 (ipykernel)",
   "language": "python",
   "name": "python3"
  },
  "language_info": {
   "codemirror_mode": {
    "name": "ipython",
    "version": 3
   },
   "file_extension": ".py",
   "mimetype": "text/x-python",
   "name": "python",
   "nbconvert_exporter": "python",
   "pygments_lexer": "ipython3",
   "version": "3.9.13"
  }
 },
 "nbformat": 4,
 "nbformat_minor": 5
}
